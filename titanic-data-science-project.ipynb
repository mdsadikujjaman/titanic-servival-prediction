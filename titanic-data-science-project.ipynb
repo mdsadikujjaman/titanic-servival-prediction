{
 "cells": [
  {
   "cell_type": "code",
   "execution_count": 1,
   "id": "0161c7bb",
   "metadata": {
    "_cell_guid": "b1076dfc-b9ad-4769-8c92-a6c4dae69d19",
    "_uuid": "8f2839f25d086af736a60e9eeb907d3b93b6e0e5",
    "execution": {
     "iopub.execute_input": "2025-08-17T06:29:36.120360Z",
     "iopub.status.busy": "2025-08-17T06:29:36.120017Z",
     "iopub.status.idle": "2025-08-17T06:29:41.568250Z",
     "shell.execute_reply": "2025-08-17T06:29:41.567164Z"
    },
    "papermill": {
     "duration": 5.456196,
     "end_time": "2025-08-17T06:29:41.569959",
     "exception": false,
     "start_time": "2025-08-17T06:29:36.113763",
     "status": "completed"
    },
    "tags": []
   },
   "outputs": [],
   "source": [
    "import pandas as pd\n",
    "import numpy as np\n",
    "import matplotlib.pyplot as plt\n",
    "import seaborn as sns\n",
    "from sklearn.model_selection import train_test_split, cross_val_score, GridSearchCV\n",
    "from sklearn.ensemble import RandomForestClassifier, GradientBoostingClassifier, VotingClassifier\n",
    "from sklearn.preprocessing import LabelEncoder, StandardScaler\n",
    "from sklearn.impute import SimpleImputer\n",
    "from sklearn.metrics import accuracy_score\n",
    "import xgboost as xgb"
   ]
  },
  {
   "cell_type": "code",
   "execution_count": 2,
   "id": "d383839f",
   "metadata": {
    "execution": {
     "iopub.execute_input": "2025-08-17T06:29:41.581791Z",
     "iopub.status.busy": "2025-08-17T06:29:41.580943Z",
     "iopub.status.idle": "2025-08-17T06:29:41.585667Z",
     "shell.execute_reply": "2025-08-17T06:29:41.584670Z"
    },
    "papermill": {
     "duration": 0.012068,
     "end_time": "2025-08-17T06:29:41.587256",
     "exception": false,
     "start_time": "2025-08-17T06:29:41.575188",
     "status": "completed"
    },
    "tags": []
   },
   "outputs": [],
   "source": [
    "import warnings\n",
    "warnings.filterwarnings('ignore')"
   ]
  },
  {
   "cell_type": "code",
   "execution_count": 3,
   "id": "bd20be86",
   "metadata": {
    "execution": {
     "iopub.execute_input": "2025-08-17T06:29:41.597015Z",
     "iopub.status.busy": "2025-08-17T06:29:41.596646Z",
     "iopub.status.idle": "2025-08-17T06:29:41.634833Z",
     "shell.execute_reply": "2025-08-17T06:29:41.633784Z"
    },
    "papermill": {
     "duration": 0.045122,
     "end_time": "2025-08-17T06:29:41.636682",
     "exception": false,
     "start_time": "2025-08-17T06:29:41.591560",
     "status": "completed"
    },
    "tags": []
   },
   "outputs": [],
   "source": [
    "# Load data (Kaggle auto-links datasets in notebooks)\n",
    "train = pd.read_csv('/kaggle/input/titanic/train.csv')  # Training data\n",
    "test = pd.read_csv('/kaggle/input/titanic/test.csv')    # Test data for submission"
   ]
  },
  {
   "cell_type": "code",
   "execution_count": 4,
   "id": "a6c45d05",
   "metadata": {
    "execution": {
     "iopub.execute_input": "2025-08-17T06:29:41.646803Z",
     "iopub.status.busy": "2025-08-17T06:29:41.645930Z",
     "iopub.status.idle": "2025-08-17T06:29:41.676190Z",
     "shell.execute_reply": "2025-08-17T06:29:41.674903Z"
    },
    "papermill": {
     "duration": 0.037093,
     "end_time": "2025-08-17T06:29:41.678060",
     "exception": false,
     "start_time": "2025-08-17T06:29:41.640967",
     "status": "completed"
    },
    "tags": []
   },
   "outputs": [
    {
     "data": {
      "text/html": [
       "<div>\n",
       "<style scoped>\n",
       "    .dataframe tbody tr th:only-of-type {\n",
       "        vertical-align: middle;\n",
       "    }\n",
       "\n",
       "    .dataframe tbody tr th {\n",
       "        vertical-align: top;\n",
       "    }\n",
       "\n",
       "    .dataframe thead th {\n",
       "        text-align: right;\n",
       "    }\n",
       "</style>\n",
       "<table border=\"1\" class=\"dataframe\">\n",
       "  <thead>\n",
       "    <tr style=\"text-align: right;\">\n",
       "      <th></th>\n",
       "      <th>PassengerId</th>\n",
       "      <th>Survived</th>\n",
       "      <th>Pclass</th>\n",
       "      <th>Name</th>\n",
       "      <th>Sex</th>\n",
       "      <th>Age</th>\n",
       "      <th>SibSp</th>\n",
       "      <th>Parch</th>\n",
       "      <th>Ticket</th>\n",
       "      <th>Fare</th>\n",
       "      <th>Cabin</th>\n",
       "      <th>Embarked</th>\n",
       "    </tr>\n",
       "  </thead>\n",
       "  <tbody>\n",
       "    <tr>\n",
       "      <th>0</th>\n",
       "      <td>1</td>\n",
       "      <td>0</td>\n",
       "      <td>3</td>\n",
       "      <td>Braund, Mr. Owen Harris</td>\n",
       "      <td>male</td>\n",
       "      <td>22.0</td>\n",
       "      <td>1</td>\n",
       "      <td>0</td>\n",
       "      <td>A/5 21171</td>\n",
       "      <td>7.2500</td>\n",
       "      <td>NaN</td>\n",
       "      <td>S</td>\n",
       "    </tr>\n",
       "    <tr>\n",
       "      <th>1</th>\n",
       "      <td>2</td>\n",
       "      <td>1</td>\n",
       "      <td>1</td>\n",
       "      <td>Cumings, Mrs. John Bradley (Florence Briggs Th...</td>\n",
       "      <td>female</td>\n",
       "      <td>38.0</td>\n",
       "      <td>1</td>\n",
       "      <td>0</td>\n",
       "      <td>PC 17599</td>\n",
       "      <td>71.2833</td>\n",
       "      <td>C85</td>\n",
       "      <td>C</td>\n",
       "    </tr>\n",
       "    <tr>\n",
       "      <th>2</th>\n",
       "      <td>3</td>\n",
       "      <td>1</td>\n",
       "      <td>3</td>\n",
       "      <td>Heikkinen, Miss. Laina</td>\n",
       "      <td>female</td>\n",
       "      <td>26.0</td>\n",
       "      <td>0</td>\n",
       "      <td>0</td>\n",
       "      <td>STON/O2. 3101282</td>\n",
       "      <td>7.9250</td>\n",
       "      <td>NaN</td>\n",
       "      <td>S</td>\n",
       "    </tr>\n",
       "    <tr>\n",
       "      <th>3</th>\n",
       "      <td>4</td>\n",
       "      <td>1</td>\n",
       "      <td>1</td>\n",
       "      <td>Futrelle, Mrs. Jacques Heath (Lily May Peel)</td>\n",
       "      <td>female</td>\n",
       "      <td>35.0</td>\n",
       "      <td>1</td>\n",
       "      <td>0</td>\n",
       "      <td>113803</td>\n",
       "      <td>53.1000</td>\n",
       "      <td>C123</td>\n",
       "      <td>S</td>\n",
       "    </tr>\n",
       "    <tr>\n",
       "      <th>4</th>\n",
       "      <td>5</td>\n",
       "      <td>0</td>\n",
       "      <td>3</td>\n",
       "      <td>Allen, Mr. William Henry</td>\n",
       "      <td>male</td>\n",
       "      <td>35.0</td>\n",
       "      <td>0</td>\n",
       "      <td>0</td>\n",
       "      <td>373450</td>\n",
       "      <td>8.0500</td>\n",
       "      <td>NaN</td>\n",
       "      <td>S</td>\n",
       "    </tr>\n",
       "  </tbody>\n",
       "</table>\n",
       "</div>"
      ],
      "text/plain": [
       "   PassengerId  Survived  Pclass  \\\n",
       "0            1         0       3   \n",
       "1            2         1       1   \n",
       "2            3         1       3   \n",
       "3            4         1       1   \n",
       "4            5         0       3   \n",
       "\n",
       "                                                Name     Sex   Age  SibSp  \\\n",
       "0                            Braund, Mr. Owen Harris    male  22.0      1   \n",
       "1  Cumings, Mrs. John Bradley (Florence Briggs Th...  female  38.0      1   \n",
       "2                             Heikkinen, Miss. Laina  female  26.0      0   \n",
       "3       Futrelle, Mrs. Jacques Heath (Lily May Peel)  female  35.0      1   \n",
       "4                           Allen, Mr. William Henry    male  35.0      0   \n",
       "\n",
       "   Parch            Ticket     Fare Cabin Embarked  \n",
       "0      0         A/5 21171   7.2500   NaN        S  \n",
       "1      0          PC 17599  71.2833   C85        C  \n",
       "2      0  STON/O2. 3101282   7.9250   NaN        S  \n",
       "3      0            113803  53.1000  C123        S  \n",
       "4      0            373450   8.0500   NaN        S  "
      ]
     },
     "execution_count": 4,
     "metadata": {},
     "output_type": "execute_result"
    }
   ],
   "source": [
    "train.head()"
   ]
  },
  {
   "cell_type": "code",
   "execution_count": 5,
   "id": "a2b3e274",
   "metadata": {
    "execution": {
     "iopub.execute_input": "2025-08-17T06:29:41.688711Z",
     "iopub.status.busy": "2025-08-17T06:29:41.688026Z",
     "iopub.status.idle": "2025-08-17T06:29:41.701021Z",
     "shell.execute_reply": "2025-08-17T06:29:41.700203Z"
    },
    "papermill": {
     "duration": 0.019841,
     "end_time": "2025-08-17T06:29:41.702550",
     "exception": false,
     "start_time": "2025-08-17T06:29:41.682709",
     "status": "completed"
    },
    "tags": []
   },
   "outputs": [
    {
     "data": {
      "text/html": [
       "<div>\n",
       "<style scoped>\n",
       "    .dataframe tbody tr th:only-of-type {\n",
       "        vertical-align: middle;\n",
       "    }\n",
       "\n",
       "    .dataframe tbody tr th {\n",
       "        vertical-align: top;\n",
       "    }\n",
       "\n",
       "    .dataframe thead th {\n",
       "        text-align: right;\n",
       "    }\n",
       "</style>\n",
       "<table border=\"1\" class=\"dataframe\">\n",
       "  <thead>\n",
       "    <tr style=\"text-align: right;\">\n",
       "      <th></th>\n",
       "      <th>PassengerId</th>\n",
       "      <th>Survived</th>\n",
       "      <th>Pclass</th>\n",
       "      <th>Name</th>\n",
       "      <th>Sex</th>\n",
       "      <th>Age</th>\n",
       "      <th>SibSp</th>\n",
       "      <th>Parch</th>\n",
       "      <th>Ticket</th>\n",
       "      <th>Fare</th>\n",
       "      <th>Cabin</th>\n",
       "      <th>Embarked</th>\n",
       "    </tr>\n",
       "  </thead>\n",
       "  <tbody>\n",
       "    <tr>\n",
       "      <th>886</th>\n",
       "      <td>887</td>\n",
       "      <td>0</td>\n",
       "      <td>2</td>\n",
       "      <td>Montvila, Rev. Juozas</td>\n",
       "      <td>male</td>\n",
       "      <td>27.0</td>\n",
       "      <td>0</td>\n",
       "      <td>0</td>\n",
       "      <td>211536</td>\n",
       "      <td>13.00</td>\n",
       "      <td>NaN</td>\n",
       "      <td>S</td>\n",
       "    </tr>\n",
       "    <tr>\n",
       "      <th>887</th>\n",
       "      <td>888</td>\n",
       "      <td>1</td>\n",
       "      <td>1</td>\n",
       "      <td>Graham, Miss. Margaret Edith</td>\n",
       "      <td>female</td>\n",
       "      <td>19.0</td>\n",
       "      <td>0</td>\n",
       "      <td>0</td>\n",
       "      <td>112053</td>\n",
       "      <td>30.00</td>\n",
       "      <td>B42</td>\n",
       "      <td>S</td>\n",
       "    </tr>\n",
       "    <tr>\n",
       "      <th>888</th>\n",
       "      <td>889</td>\n",
       "      <td>0</td>\n",
       "      <td>3</td>\n",
       "      <td>Johnston, Miss. Catherine Helen \"Carrie\"</td>\n",
       "      <td>female</td>\n",
       "      <td>NaN</td>\n",
       "      <td>1</td>\n",
       "      <td>2</td>\n",
       "      <td>W./C. 6607</td>\n",
       "      <td>23.45</td>\n",
       "      <td>NaN</td>\n",
       "      <td>S</td>\n",
       "    </tr>\n",
       "    <tr>\n",
       "      <th>889</th>\n",
       "      <td>890</td>\n",
       "      <td>1</td>\n",
       "      <td>1</td>\n",
       "      <td>Behr, Mr. Karl Howell</td>\n",
       "      <td>male</td>\n",
       "      <td>26.0</td>\n",
       "      <td>0</td>\n",
       "      <td>0</td>\n",
       "      <td>111369</td>\n",
       "      <td>30.00</td>\n",
       "      <td>C148</td>\n",
       "      <td>C</td>\n",
       "    </tr>\n",
       "    <tr>\n",
       "      <th>890</th>\n",
       "      <td>891</td>\n",
       "      <td>0</td>\n",
       "      <td>3</td>\n",
       "      <td>Dooley, Mr. Patrick</td>\n",
       "      <td>male</td>\n",
       "      <td>32.0</td>\n",
       "      <td>0</td>\n",
       "      <td>0</td>\n",
       "      <td>370376</td>\n",
       "      <td>7.75</td>\n",
       "      <td>NaN</td>\n",
       "      <td>Q</td>\n",
       "    </tr>\n",
       "  </tbody>\n",
       "</table>\n",
       "</div>"
      ],
      "text/plain": [
       "     PassengerId  Survived  Pclass                                      Name  \\\n",
       "886          887         0       2                     Montvila, Rev. Juozas   \n",
       "887          888         1       1              Graham, Miss. Margaret Edith   \n",
       "888          889         0       3  Johnston, Miss. Catherine Helen \"Carrie\"   \n",
       "889          890         1       1                     Behr, Mr. Karl Howell   \n",
       "890          891         0       3                       Dooley, Mr. Patrick   \n",
       "\n",
       "        Sex   Age  SibSp  Parch      Ticket   Fare Cabin Embarked  \n",
       "886    male  27.0      0      0      211536  13.00   NaN        S  \n",
       "887  female  19.0      0      0      112053  30.00   B42        S  \n",
       "888  female   NaN      1      2  W./C. 6607  23.45   NaN        S  \n",
       "889    male  26.0      0      0      111369  30.00  C148        C  \n",
       "890    male  32.0      0      0      370376   7.75   NaN        Q  "
      ]
     },
     "execution_count": 5,
     "metadata": {},
     "output_type": "execute_result"
    }
   ],
   "source": [
    "train.tail()"
   ]
  },
  {
   "cell_type": "code",
   "execution_count": 6,
   "id": "b602980f",
   "metadata": {
    "execution": {
     "iopub.execute_input": "2025-08-17T06:29:41.714815Z",
     "iopub.status.busy": "2025-08-17T06:29:41.714449Z",
     "iopub.status.idle": "2025-08-17T06:29:41.727905Z",
     "shell.execute_reply": "2025-08-17T06:29:41.726946Z"
    },
    "papermill": {
     "duration": 0.022089,
     "end_time": "2025-08-17T06:29:41.729457",
     "exception": false,
     "start_time": "2025-08-17T06:29:41.707368",
     "status": "completed"
    },
    "tags": []
   },
   "outputs": [
    {
     "data": {
      "text/html": [
       "<div>\n",
       "<style scoped>\n",
       "    .dataframe tbody tr th:only-of-type {\n",
       "        vertical-align: middle;\n",
       "    }\n",
       "\n",
       "    .dataframe tbody tr th {\n",
       "        vertical-align: top;\n",
       "    }\n",
       "\n",
       "    .dataframe thead th {\n",
       "        text-align: right;\n",
       "    }\n",
       "</style>\n",
       "<table border=\"1\" class=\"dataframe\">\n",
       "  <thead>\n",
       "    <tr style=\"text-align: right;\">\n",
       "      <th></th>\n",
       "      <th>PassengerId</th>\n",
       "      <th>Pclass</th>\n",
       "      <th>Name</th>\n",
       "      <th>Sex</th>\n",
       "      <th>Age</th>\n",
       "      <th>SibSp</th>\n",
       "      <th>Parch</th>\n",
       "      <th>Ticket</th>\n",
       "      <th>Fare</th>\n",
       "      <th>Cabin</th>\n",
       "      <th>Embarked</th>\n",
       "    </tr>\n",
       "  </thead>\n",
       "  <tbody>\n",
       "    <tr>\n",
       "      <th>0</th>\n",
       "      <td>892</td>\n",
       "      <td>3</td>\n",
       "      <td>Kelly, Mr. James</td>\n",
       "      <td>male</td>\n",
       "      <td>34.5</td>\n",
       "      <td>0</td>\n",
       "      <td>0</td>\n",
       "      <td>330911</td>\n",
       "      <td>7.8292</td>\n",
       "      <td>NaN</td>\n",
       "      <td>Q</td>\n",
       "    </tr>\n",
       "    <tr>\n",
       "      <th>1</th>\n",
       "      <td>893</td>\n",
       "      <td>3</td>\n",
       "      <td>Wilkes, Mrs. James (Ellen Needs)</td>\n",
       "      <td>female</td>\n",
       "      <td>47.0</td>\n",
       "      <td>1</td>\n",
       "      <td>0</td>\n",
       "      <td>363272</td>\n",
       "      <td>7.0000</td>\n",
       "      <td>NaN</td>\n",
       "      <td>S</td>\n",
       "    </tr>\n",
       "    <tr>\n",
       "      <th>2</th>\n",
       "      <td>894</td>\n",
       "      <td>2</td>\n",
       "      <td>Myles, Mr. Thomas Francis</td>\n",
       "      <td>male</td>\n",
       "      <td>62.0</td>\n",
       "      <td>0</td>\n",
       "      <td>0</td>\n",
       "      <td>240276</td>\n",
       "      <td>9.6875</td>\n",
       "      <td>NaN</td>\n",
       "      <td>Q</td>\n",
       "    </tr>\n",
       "    <tr>\n",
       "      <th>3</th>\n",
       "      <td>895</td>\n",
       "      <td>3</td>\n",
       "      <td>Wirz, Mr. Albert</td>\n",
       "      <td>male</td>\n",
       "      <td>27.0</td>\n",
       "      <td>0</td>\n",
       "      <td>0</td>\n",
       "      <td>315154</td>\n",
       "      <td>8.6625</td>\n",
       "      <td>NaN</td>\n",
       "      <td>S</td>\n",
       "    </tr>\n",
       "    <tr>\n",
       "      <th>4</th>\n",
       "      <td>896</td>\n",
       "      <td>3</td>\n",
       "      <td>Hirvonen, Mrs. Alexander (Helga E Lindqvist)</td>\n",
       "      <td>female</td>\n",
       "      <td>22.0</td>\n",
       "      <td>1</td>\n",
       "      <td>1</td>\n",
       "      <td>3101298</td>\n",
       "      <td>12.2875</td>\n",
       "      <td>NaN</td>\n",
       "      <td>S</td>\n",
       "    </tr>\n",
       "  </tbody>\n",
       "</table>\n",
       "</div>"
      ],
      "text/plain": [
       "   PassengerId  Pclass                                          Name     Sex  \\\n",
       "0          892       3                              Kelly, Mr. James    male   \n",
       "1          893       3              Wilkes, Mrs. James (Ellen Needs)  female   \n",
       "2          894       2                     Myles, Mr. Thomas Francis    male   \n",
       "3          895       3                              Wirz, Mr. Albert    male   \n",
       "4          896       3  Hirvonen, Mrs. Alexander (Helga E Lindqvist)  female   \n",
       "\n",
       "    Age  SibSp  Parch   Ticket     Fare Cabin Embarked  \n",
       "0  34.5      0      0   330911   7.8292   NaN        Q  \n",
       "1  47.0      1      0   363272   7.0000   NaN        S  \n",
       "2  62.0      0      0   240276   9.6875   NaN        Q  \n",
       "3  27.0      0      0   315154   8.6625   NaN        S  \n",
       "4  22.0      1      1  3101298  12.2875   NaN        S  "
      ]
     },
     "execution_count": 6,
     "metadata": {},
     "output_type": "execute_result"
    }
   ],
   "source": [
    "test.head()"
   ]
  },
  {
   "cell_type": "code",
   "execution_count": 7,
   "id": "664223ce",
   "metadata": {
    "execution": {
     "iopub.execute_input": "2025-08-17T06:29:41.741019Z",
     "iopub.status.busy": "2025-08-17T06:29:41.740042Z",
     "iopub.status.idle": "2025-08-17T06:29:41.753384Z",
     "shell.execute_reply": "2025-08-17T06:29:41.752275Z"
    },
    "papermill": {
     "duration": 0.020652,
     "end_time": "2025-08-17T06:29:41.755063",
     "exception": false,
     "start_time": "2025-08-17T06:29:41.734411",
     "status": "completed"
    },
    "tags": []
   },
   "outputs": [
    {
     "data": {
      "text/html": [
       "<div>\n",
       "<style scoped>\n",
       "    .dataframe tbody tr th:only-of-type {\n",
       "        vertical-align: middle;\n",
       "    }\n",
       "\n",
       "    .dataframe tbody tr th {\n",
       "        vertical-align: top;\n",
       "    }\n",
       "\n",
       "    .dataframe thead th {\n",
       "        text-align: right;\n",
       "    }\n",
       "</style>\n",
       "<table border=\"1\" class=\"dataframe\">\n",
       "  <thead>\n",
       "    <tr style=\"text-align: right;\">\n",
       "      <th></th>\n",
       "      <th>PassengerId</th>\n",
       "      <th>Pclass</th>\n",
       "      <th>Name</th>\n",
       "      <th>Sex</th>\n",
       "      <th>Age</th>\n",
       "      <th>SibSp</th>\n",
       "      <th>Parch</th>\n",
       "      <th>Ticket</th>\n",
       "      <th>Fare</th>\n",
       "      <th>Cabin</th>\n",
       "      <th>Embarked</th>\n",
       "    </tr>\n",
       "  </thead>\n",
       "  <tbody>\n",
       "    <tr>\n",
       "      <th>413</th>\n",
       "      <td>1305</td>\n",
       "      <td>3</td>\n",
       "      <td>Spector, Mr. Woolf</td>\n",
       "      <td>male</td>\n",
       "      <td>NaN</td>\n",
       "      <td>0</td>\n",
       "      <td>0</td>\n",
       "      <td>A.5. 3236</td>\n",
       "      <td>8.0500</td>\n",
       "      <td>NaN</td>\n",
       "      <td>S</td>\n",
       "    </tr>\n",
       "    <tr>\n",
       "      <th>414</th>\n",
       "      <td>1306</td>\n",
       "      <td>1</td>\n",
       "      <td>Oliva y Ocana, Dona. Fermina</td>\n",
       "      <td>female</td>\n",
       "      <td>39.0</td>\n",
       "      <td>0</td>\n",
       "      <td>0</td>\n",
       "      <td>PC 17758</td>\n",
       "      <td>108.9000</td>\n",
       "      <td>C105</td>\n",
       "      <td>C</td>\n",
       "    </tr>\n",
       "    <tr>\n",
       "      <th>415</th>\n",
       "      <td>1307</td>\n",
       "      <td>3</td>\n",
       "      <td>Saether, Mr. Simon Sivertsen</td>\n",
       "      <td>male</td>\n",
       "      <td>38.5</td>\n",
       "      <td>0</td>\n",
       "      <td>0</td>\n",
       "      <td>SOTON/O.Q. 3101262</td>\n",
       "      <td>7.2500</td>\n",
       "      <td>NaN</td>\n",
       "      <td>S</td>\n",
       "    </tr>\n",
       "    <tr>\n",
       "      <th>416</th>\n",
       "      <td>1308</td>\n",
       "      <td>3</td>\n",
       "      <td>Ware, Mr. Frederick</td>\n",
       "      <td>male</td>\n",
       "      <td>NaN</td>\n",
       "      <td>0</td>\n",
       "      <td>0</td>\n",
       "      <td>359309</td>\n",
       "      <td>8.0500</td>\n",
       "      <td>NaN</td>\n",
       "      <td>S</td>\n",
       "    </tr>\n",
       "    <tr>\n",
       "      <th>417</th>\n",
       "      <td>1309</td>\n",
       "      <td>3</td>\n",
       "      <td>Peter, Master. Michael J</td>\n",
       "      <td>male</td>\n",
       "      <td>NaN</td>\n",
       "      <td>1</td>\n",
       "      <td>1</td>\n",
       "      <td>2668</td>\n",
       "      <td>22.3583</td>\n",
       "      <td>NaN</td>\n",
       "      <td>C</td>\n",
       "    </tr>\n",
       "  </tbody>\n",
       "</table>\n",
       "</div>"
      ],
      "text/plain": [
       "     PassengerId  Pclass                          Name     Sex   Age  SibSp  \\\n",
       "413         1305       3            Spector, Mr. Woolf    male   NaN      0   \n",
       "414         1306       1  Oliva y Ocana, Dona. Fermina  female  39.0      0   \n",
       "415         1307       3  Saether, Mr. Simon Sivertsen    male  38.5      0   \n",
       "416         1308       3           Ware, Mr. Frederick    male   NaN      0   \n",
       "417         1309       3      Peter, Master. Michael J    male   NaN      1   \n",
       "\n",
       "     Parch              Ticket      Fare Cabin Embarked  \n",
       "413      0           A.5. 3236    8.0500   NaN        S  \n",
       "414      0            PC 17758  108.9000  C105        C  \n",
       "415      0  SOTON/O.Q. 3101262    7.2500   NaN        S  \n",
       "416      0              359309    8.0500   NaN        S  \n",
       "417      1                2668   22.3583   NaN        C  "
      ]
     },
     "execution_count": 7,
     "metadata": {},
     "output_type": "execute_result"
    }
   ],
   "source": [
    "test.tail()"
   ]
  },
  {
   "cell_type": "code",
   "execution_count": 8,
   "id": "c5e48904",
   "metadata": {
    "execution": {
     "iopub.execute_input": "2025-08-17T06:29:41.767041Z",
     "iopub.status.busy": "2025-08-17T06:29:41.766649Z",
     "iopub.status.idle": "2025-08-17T06:29:42.453889Z",
     "shell.execute_reply": "2025-08-17T06:29:42.452933Z"
    },
    "papermill": {
     "duration": 0.695381,
     "end_time": "2025-08-17T06:29:42.455505",
     "exception": false,
     "start_time": "2025-08-17T06:29:41.760124",
     "status": "completed"
    },
    "tags": []
   },
   "outputs": [
    {
     "name": "stdout",
     "output_type": "stream",
     "text": [
      "<class 'pandas.core.frame.DataFrame'>\n",
      "RangeIndex: 891 entries, 0 to 890\n",
      "Data columns (total 12 columns):\n",
      " #   Column       Non-Null Count  Dtype  \n",
      "---  ------       --------------  -----  \n",
      " 0   PassengerId  891 non-null    int64  \n",
      " 1   Survived     891 non-null    int64  \n",
      " 2   Pclass       891 non-null    int64  \n",
      " 3   Name         891 non-null    object \n",
      " 4   Sex          891 non-null    object \n",
      " 5   Age          714 non-null    float64\n",
      " 6   SibSp        891 non-null    int64  \n",
      " 7   Parch        891 non-null    int64  \n",
      " 8   Ticket       891 non-null    object \n",
      " 9   Fare         891 non-null    float64\n",
      " 10  Cabin        204 non-null    object \n",
      " 11  Embarked     889 non-null    object \n",
      "dtypes: float64(2), int64(5), object(5)\n",
      "memory usage: 83.7+ KB\n",
      "None\n",
      "PassengerId      0\n",
      "Survived         0\n",
      "Pclass           0\n",
      "Name             0\n",
      "Sex              0\n",
      "Age            177\n",
      "SibSp            0\n",
      "Parch            0\n",
      "Ticket           0\n",
      "Fare             0\n",
      "Cabin          687\n",
      "Embarked         2\n",
      "dtype: int64\n"
     ]
    },
    {
     "data": {
      "text/plain": [
       "<Figure size 1000x600 with 0 Axes>"
      ]
     },
     "metadata": {},
     "output_type": "display_data"
    },
    {
     "data": {
      "image/png": "[encoded data removed]",
      "text/plain": [
       "<Figure size 1098x500 with 2 Axes>"
      ]
     },
     "metadata": {},
     "output_type": "display_data"
    }
   ],
   "source": [
    "# EDA\n",
    "print(train.info())\n",
    "print(train.isnull().sum())\n",
    "plt.figure(figsize=(10, 6))\n",
    "sns.catplot(x='Pclass', hue='Sex', col='Survived', data=train, kind='count')\n",
    "plt.show()"
   ]
  },
  {
   "cell_type": "code",
   "execution_count": 9,
   "id": "2e1a1910",
   "metadata": {
    "execution": {
     "iopub.execute_input": "2025-08-17T06:29:42.468198Z",
     "iopub.status.busy": "2025-08-17T06:29:42.467824Z",
     "iopub.status.idle": "2025-08-17T06:29:42.849285Z",
     "shell.execute_reply": "2025-08-17T06:29:42.848368Z"
    },
    "papermill": {
     "duration": 0.389941,
     "end_time": "2025-08-17T06:29:42.850993",
     "exception": false,
     "start_time": "2025-08-17T06:29:42.461052",
     "status": "completed"
    },
    "tags": []
   },
   "outputs": [
    {
     "data": {
      "image/png": "[encoded data removed]",
      "text/plain": [
       "<Figure size 640x480 with 1 Axes>"
      ]
     },
     "metadata": {},
     "output_type": "display_data"
    }
   ],
   "source": [
    "sns.histplot(data=train, x='Age', hue='Survived', bins=30, kde=True)\n",
    "plt.title('Age Distribution by Survival')\n",
    "plt.show()"
   ]
  },
  {
   "cell_type": "code",
   "execution_count": 10,
   "id": "c418cb1c",
   "metadata": {
    "execution": {
     "iopub.execute_input": "2025-08-17T06:29:42.864930Z",
     "iopub.status.busy": "2025-08-17T06:29:42.864506Z",
     "iopub.status.idle": "2025-08-17T06:29:43.010018Z",
     "shell.execute_reply": "2025-08-17T06:29:43.009086Z"
    },
    "papermill": {
     "duration": 0.154188,
     "end_time": "2025-08-17T06:29:43.011737",
     "exception": false,
     "start_time": "2025-08-17T06:29:42.857549",
     "status": "completed"
    },
    "tags": []
   },
   "outputs": [
    {
     "data": {
      "image/png": "[encoded data removed]",
      "text/plain": [
       "<Figure size 640x480 with 1 Axes>"
      ]
     },
     "metadata": {},
     "output_type": "display_data"
    }
   ],
   "source": [
    "sns.boxplot(x='Survived', y='Fare', data=train)\n",
    "plt.title('Fare vs. Survival')\n",
    "plt.show()"
   ]
  },
  {
   "cell_type": "code",
   "execution_count": 11,
   "id": "239751c2",
   "metadata": {
    "execution": {
     "iopub.execute_input": "2025-08-17T06:29:43.025899Z",
     "iopub.status.busy": "2025-08-17T06:29:43.025589Z",
     "iopub.status.idle": "2025-08-17T06:29:43.210850Z",
     "shell.execute_reply": "2025-08-17T06:29:43.209996Z"
    },
    "papermill": {
     "duration": 0.194237,
     "end_time": "2025-08-17T06:29:43.212487",
     "exception": false,
     "start_time": "2025-08-17T06:29:43.018250",
     "status": "completed"
    },
    "tags": []
   },
   "outputs": [
    {
     "data": {
      "image/png": "[encoded data removed]",
      "text/plain": [
       "<Figure size 640x480 with 1 Axes>"
      ]
     },
     "metadata": {},
     "output_type": "display_data"
    }
   ],
   "source": [
    "sns.countplot(x='Embarked', hue='Survived', data=train)\n",
    "plt.title('Survival by Port of Embarkation')\n",
    "plt.show()"
   ]
  },
  {
   "cell_type": "code",
   "execution_count": 12,
   "id": "9f5228a7",
   "metadata": {
    "execution": {
     "iopub.execute_input": "2025-08-17T06:29:43.227072Z",
     "iopub.status.busy": "2025-08-17T06:29:43.226768Z",
     "iopub.status.idle": "2025-08-17T06:29:43.521698Z",
     "shell.execute_reply": "2025-08-17T06:29:43.520767Z"
    },
    "papermill": {
     "duration": 0.304134,
     "end_time": "2025-08-17T06:29:43.523431",
     "exception": false,
     "start_time": "2025-08-17T06:29:43.219297",
     "status": "completed"
    },
    "tags": []
   },
   "outputs": [
    {
     "data": {
      "image/png": "[encoded data removed]",
      "text/plain": [
       "<Figure size 640x480 with 2 Axes>"
      ]
     },
     "metadata": {},
     "output_type": "display_data"
    }
   ],
   "source": [
    "numerical_cols = ['Age', 'Fare', 'SibSp', 'Parch', 'Pclass', 'Survived']\n",
    "corr_matrix = train[numerical_cols].corr()\n",
    "sns.heatmap(corr_matrix, annot=True, cmap='coolwarm')\n",
    "plt.title('Correlation Heatmap')\n",
    "plt.show()"
   ]
  },
  {
   "cell_type": "code",
   "execution_count": 13,
   "id": "f07c7575",
   "metadata": {
    "execution": {
     "iopub.execute_input": "2025-08-17T06:29:43.540347Z",
     "iopub.status.busy": "2025-08-17T06:29:43.539522Z",
     "iopub.status.idle": "2025-08-17T06:29:43.976537Z",
     "shell.execute_reply": "2025-08-17T06:29:43.975597Z"
    },
    "papermill": {
     "duration": 0.447214,
     "end_time": "2025-08-17T06:29:43.978250",
     "exception": false,
     "start_time": "2025-08-17T06:29:43.531036",
     "status": "completed"
    },
    "tags": []
   },
   "outputs": [],
   "source": [
    "# Feature engineering\n",
    "all_data = pd.concat([train.drop('Survived', axis=1), test], axis=0, ignore_index=True)\n",
    "all_data['FamilySize'] = all_data['SibSp'] + all_data['Parch'] + 1\n",
    "all_data['IsAlone'] = (all_data['FamilySize'] == 1).astype(int)\n",
    "all_data['Title'] = all_data['Name'].str.extract(' ([A-Za-z]+)\\.', expand=False)\n",
    "all_data['Title'] = all_data['Title'].replace(['Lady', 'Countess', 'Capt', 'Col', 'Don', 'Dr', \n",
    "                                               'Major', 'Rev', 'Sir', 'Jonkheer', 'Dona'], 'Rare')\n",
    "all_data['Title'] = all_data['Title'].replace('Mlle', 'Miss').replace('Ms', 'Miss').replace('Mme', 'Mrs')\n",
    "all_data['CabinLetter'] = all_data['Cabin'].str[0].fillna('Unknown')\n",
    "all_data['TicketPrefix'] = all_data['Ticket'].apply(lambda x: x.split()[0] if not x.isdigit() else 'None')\n",
    "all_data['TicketPrefix'] = all_data['TicketPrefix'].apply(lambda x: 'Rare' if all_data['TicketPrefix'].value_counts()[x] < 10 else x)"
   ]
  },
  {
   "cell_type": "code",
   "execution_count": 14,
   "id": "c3bc5c75",
   "metadata": {
    "execution": {
     "iopub.execute_input": "2025-08-17T06:29:43.995227Z",
     "iopub.status.busy": "2025-08-17T06:29:43.994858Z",
     "iopub.status.idle": "2025-08-17T06:29:44.003076Z",
     "shell.execute_reply": "2025-08-17T06:29:44.002073Z"
    },
    "papermill": {
     "duration": 0.018718,
     "end_time": "2025-08-17T06:29:44.004771",
     "exception": false,
     "start_time": "2025-08-17T06:29:43.986053",
     "status": "completed"
    },
    "tags": []
   },
   "outputs": [],
   "source": [
    "# Features\n",
    "features = ['Pclass', 'Sex', 'Age', 'SibSp', 'Parch', 'Fare', 'Embarked', \n",
    "            'FamilySize', 'IsAlone', 'Title', 'CabinLetter', 'TicketPrefix']\n",
    "X = all_data.iloc[:len(train)][features]\n",
    "X_test = all_data.iloc[len(train):][features]\n",
    "y = train['Survived']"
   ]
  },
  {
   "cell_type": "code",
   "execution_count": 15,
   "id": "67813321",
   "metadata": {
    "execution": {
     "iopub.execute_input": "2025-08-17T06:29:44.021445Z",
     "iopub.status.busy": "2025-08-17T06:29:44.021118Z",
     "iopub.status.idle": "2025-08-17T06:29:44.067632Z",
     "shell.execute_reply": "2025-08-17T06:29:44.066691Z"
    },
    "papermill": {
     "duration": 0.057004,
     "end_time": "2025-08-17T06:29:44.069455",
     "exception": false,
     "start_time": "2025-08-17T06:29:44.012451",
     "status": "completed"
    },
    "tags": []
   },
   "outputs": [],
   "source": [
    "# Encode and impute\n",
    "label_encoder = LabelEncoder()\n",
    "for col in ['Sex', 'Embarked', 'Title', 'CabinLetter', 'TicketPrefix']:\n",
    "    X[col] = label_encoder.fit_transform(X[col].fillna('Unknown'))\n",
    "    X_test[col] = label_encoder.transform(X_test[col].fillna('Unknown'))\n",
    "imputer = SimpleImputer(strategy='median')\n",
    "X = pd.DataFrame(imputer.fit_transform(X), columns=features)\n",
    "X_test = pd.DataFrame(imputer.transform(X_test), columns=features)\n",
    "scaler = StandardScaler()\n",
    "X = pd.DataFrame(scaler.fit_transform(X), columns=features)\n",
    "X_test = pd.DataFrame(scaler.transform(X_test), columns=features)"
   ]
  },
  {
   "cell_type": "code",
   "execution_count": 16,
   "id": "96046c9b",
   "metadata": {
    "execution": {
     "iopub.execute_input": "2025-08-17T06:29:44.086531Z",
     "iopub.status.busy": "2025-08-17T06:29:44.085575Z",
     "iopub.status.idle": "2025-08-17T06:29:44.092648Z",
     "shell.execute_reply": "2025-08-17T06:29:44.091768Z"
    },
    "papermill": {
     "duration": 0.017068,
     "end_time": "2025-08-17T06:29:44.094352",
     "exception": false,
     "start_time": "2025-08-17T06:29:44.077284",
     "status": "completed"
    },
    "tags": []
   },
   "outputs": [],
   "source": [
    "# Split\n",
    "X_train, X_val, y_train, y_val = train_test_split(X, y, test_size=0.2, random_state=42)"
   ]
  },
  {
   "cell_type": "code",
   "execution_count": 17,
   "id": "d94f23ae",
   "metadata": {
    "execution": {
     "iopub.execute_input": "2025-08-17T06:29:44.111262Z",
     "iopub.status.busy": "2025-08-17T06:29:44.110369Z",
     "iopub.status.idle": "2025-08-17T06:29:54.925524Z",
     "shell.execute_reply": "2025-08-17T06:29:54.924173Z"
    },
    "papermill": {
     "duration": 10.825635,
     "end_time": "2025-08-17T06:29:54.927532",
     "exception": false,
     "start_time": "2025-08-17T06:29:44.101897",
     "status": "completed"
    },
    "tags": []
   },
   "outputs": [
    {
     "name": "stdout",
     "output_type": "stream",
     "text": [
      "Random Forest Accuracy: 83.80%\n",
      "Best RF Params: {'max_depth': 10, 'min_samples_split': 5, 'n_estimators': 200}\n"
     ]
    }
   ],
   "source": [
    "# Models\n",
    "rf_model = RandomForestClassifier(random_state=42)\n",
    "rf_params = {'n_estimators': [100, 200], 'max_depth': [None, 10], 'min_samples_split': [2, 5]}\n",
    "rf_grid = GridSearchCV(rf_model, rf_params, cv=5)\n",
    "rf_grid.fit(X_train, y_train)\n",
    "y_pred_rf = rf_grid.best_estimator_.predict(X_val)\n",
    "rf_accuracy = accuracy_score(y_val, y_pred_rf)\n",
    "print(f\"Random Forest Accuracy: {rf_accuracy * 100:.2f}%\")\n",
    "print(f\"Best RF Params: {rf_grid.best_params_}\")"
   ]
  },
  {
   "cell_type": "code",
   "execution_count": 18,
   "id": "1599c9a3",
   "metadata": {
    "execution": {
     "iopub.execute_input": "2025-08-17T06:29:54.944715Z",
     "iopub.status.busy": "2025-08-17T06:29:54.944395Z",
     "iopub.status.idle": "2025-08-17T06:29:57.869729Z",
     "shell.execute_reply": "2025-08-17T06:29:57.866925Z"
    },
    "papermill": {
     "duration": 2.940975,
     "end_time": "2025-08-17T06:29:57.876569",
     "exception": false,
     "start_time": "2025-08-17T06:29:54.935594",
     "status": "completed"
    },
    "tags": []
   },
   "outputs": [
    {
     "name": "stdout",
     "output_type": "stream",
     "text": [
      "XGBoost Accuracy: 80.45%\n",
      "Best XGB Params: {'learning_rate': 0.1, 'max_depth': 3, 'n_estimators': 100}\n"
     ]
    }
   ],
   "source": [
    "xgb_model = xgb.XGBClassifier(random_state=42, eval_metric='logloss')\n",
    "xgb_params = {'n_estimators': [100, 200], 'max_depth': [3, 5], 'learning_rate': [0.01, 0.1]}\n",
    "xgb_grid = GridSearchCV(xgb_model, xgb_params, cv=5)\n",
    "xgb_grid.fit(X_train, y_train)\n",
    "y_pred_xgb = xgb_grid.best_estimator_.predict(X_val)\n",
    "xgb_accuracy = accuracy_score(y_val, y_pred_xgb)\n",
    "print(f\"XGBoost Accuracy: {xgb_accuracy * 100:.2f}%\")\n",
    "print(f\"Best XGB Params: {xgb_grid.best_params_}\")"
   ]
  },
  {
   "cell_type": "code",
   "execution_count": 19,
   "id": "71a3926b",
   "metadata": {
    "execution": {
     "iopub.execute_input": "2025-08-17T06:29:57.904437Z",
     "iopub.status.busy": "2025-08-17T06:29:57.903644Z",
     "iopub.status.idle": "2025-08-17T06:30:07.345866Z",
     "shell.execute_reply": "2025-08-17T06:30:07.344559Z"
    },
    "papermill": {
     "duration": 9.453823,
     "end_time": "2025-08-17T06:30:07.347858",
     "exception": false,
     "start_time": "2025-08-17T06:29:57.894035",
     "status": "completed"
    },
    "tags": []
   },
   "outputs": [
    {
     "name": "stdout",
     "output_type": "stream",
     "text": [
      "Gradient Boosting Accuracy: 83.80%\n",
      "Best GB Params: {'learning_rate': 0.1, 'max_depth': 3, 'n_estimators': 200}\n"
     ]
    }
   ],
   "source": [
    "gb_model = GradientBoostingClassifier(random_state=42)\n",
    "gb_params = {'n_estimators': [100, 200], 'max_depth': [3, 5], 'learning_rate': [0.01, 0.1]}\n",
    "gb_grid = GridSearchCV(gb_model, gb_params, cv=5)\n",
    "gb_grid.fit(X_train, y_train)\n",
    "y_pred_gb = gb_grid.best_estimator_.predict(X_val)\n",
    "gb_accuracy = accuracy_score(y_val, y_pred_gb)\n",
    "print(f\"Gradient Boosting Accuracy: {gb_accuracy * 100:.2f}%\")\n",
    "print(f\"Best GB Params: {gb_grid.best_params_}\")"
   ]
  },
  {
   "cell_type": "code",
   "execution_count": 20,
   "id": "ad799540",
   "metadata": {
    "execution": {
     "iopub.execute_input": "2025-08-17T06:30:07.365230Z",
     "iopub.status.busy": "2025-08-17T06:30:07.364835Z",
     "iopub.status.idle": "2025-08-17T06:30:08.108670Z",
     "shell.execute_reply": "2025-08-17T06:30:08.106134Z"
    },
    "papermill": {
     "duration": 0.75448,
     "end_time": "2025-08-17T06:30:08.110504",
     "exception": false,
     "start_time": "2025-08-17T06:30:07.356024",
     "status": "completed"
    },
    "tags": []
   },
   "outputs": [
    {
     "name": "stdout",
     "output_type": "stream",
     "text": [
      "Ensemble Accuracy: 82.12%\n"
     ]
    }
   ],
   "source": [
    "ensemble = VotingClassifier(estimators=[\n",
    "    ('rf', rf_grid.best_estimator_),\n",
    "    ('xgb', xgb_grid.best_estimator_),\n",
    "    ('gb', gb_grid.best_estimator_)\n",
    "], voting='hard')\n",
    "ensemble.fit(X_train, y_train)\n",
    "y_pred_ensemble = ensemble.predict(X_val)\n",
    "ensemble_accuracy = accuracy_score(y_val, y_pred_ensemble)\n",
    "print(f\"Ensemble Accuracy: {ensemble_accuracy * 100:.2f}%\")"
   ]
  },
  {
   "cell_type": "code",
   "execution_count": 21,
   "id": "5d1e6549",
   "metadata": {
    "execution": {
     "iopub.execute_input": "2025-08-17T06:30:08.135611Z",
     "iopub.status.busy": "2025-08-17T06:30:08.135239Z",
     "iopub.status.idle": "2025-08-17T06:30:08.343177Z",
     "shell.execute_reply": "2025-08-17T06:30:08.342071Z"
    },
    "papermill": {
     "duration": 0.224799,
     "end_time": "2025-08-17T06:30:08.345601",
     "exception": false,
     "start_time": "2025-08-17T06:30:08.120802",
     "status": "completed"
    },
    "tags": []
   },
   "outputs": [
    {
     "name": "stdout",
     "output_type": "stream",
     "text": [
      "               Model  Accuracy (%)\n",
      "0      Random Forest     83.798883\n",
      "1            XGBoost     80.446927\n",
      "2  Gradient Boosting     83.798883\n",
      "3           Ensemble     82.122905\n"
     ]
    },
    {
     "data": {
      "image/png": "[encoded data removed]",
      "text/plain": [
       "<Figure size 640x480 with 1 Axes>"
      ]
     },
     "metadata": {},
     "output_type": "display_data"
    }
   ],
   "source": [
    "# Comparison\n",
    "models = ['Random Forest', 'XGBoost', 'Gradient Boosting', 'Ensemble']\n",
    "accuracies = [rf_accuracy * 100, xgb_accuracy * 100, gb_accuracy * 100, ensemble_accuracy * 100]\n",
    "comparison_df = pd.DataFrame({'Model': models, 'Accuracy (%)': accuracies})\n",
    "print(comparison_df)\n",
    "plt.bar(models, accuracies)\n",
    "plt.title('Model Accuracy Comparison')\n",
    "plt.ylabel('Accuracy (%)')\n",
    "plt.show()"
   ]
  },
  {
   "cell_type": "code",
   "execution_count": 22,
   "id": "088f320c",
   "metadata": {
    "execution": {
     "iopub.execute_input": "2025-08-17T06:30:08.366362Z",
     "iopub.status.busy": "2025-08-17T06:30:08.365854Z",
     "iopub.status.idle": "2025-08-17T06:30:08.414637Z",
     "shell.execute_reply": "2025-08-17T06:30:08.412156Z"
    },
    "papermill": {
     "duration": 0.061592,
     "end_time": "2025-08-17T06:30:08.416813",
     "exception": false,
     "start_time": "2025-08-17T06:30:08.355221",
     "status": "completed"
    },
    "tags": []
   },
   "outputs": [
    {
     "name": "stdout",
     "output_type": "stream",
     "text": [
      "Submission file created!\n"
     ]
    }
   ],
   "source": [
    "# Submit\n",
    "predictions = ensemble.predict(X_test)\n",
    "submission = pd.DataFrame({'PassengerId': test['PassengerId'], 'Survived': predictions})\n",
    "submission.to_csv('submission.csv', index=False)\n",
    "print(\"Submission file created!\")"
   ]
  }
 ],
 "metadata": {
  "kaggle": {
   "accelerator": "none",
   "dataSources": [
    {
     "databundleVersionId": 26502,
     "sourceId": 3136,
     "sourceType": "competition"
    }
   ],
   "dockerImageVersionId": 31089,
   "isGpuEnabled": false,
   "isInternetEnabled": true,
   "language": "python",
   "sourceType": "notebook"
  },
  "kernelspec": {
   "display_name": "Python 3",
   "language": "python",
   "name": "python3"
  },
  "language_info": {
   "codemirror_mode": {
    "name": "ipython",
    "version": 3
   },
   "file_extension": ".py",
   "mimetype": "text/x-python",
   "name": "python",
   "nbconvert_exporter": "python",
   "pygments_lexer": "ipython3",
   "version": "3.11.13"
  },
  "papermill": {
   "default_parameters": {},
   "duration": 38.35185,
   "end_time": "2025-08-17T06:30:09.248587",
   "environment_variables": {},
   "exception": null,
   "input_path": "__notebook__.ipynb",
   "output_path": "__notebook__.ipynb",
   "parameters": {},
   "start_time": "2025-08-17T06:29:30.896737",
   "version": "2.6.0"
  }
 },
 "nbformat": 4,
 "nbformat_minor": 5
}
